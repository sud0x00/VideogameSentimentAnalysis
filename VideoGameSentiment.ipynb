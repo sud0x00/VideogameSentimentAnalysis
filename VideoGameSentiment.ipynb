{
  "nbformat": 4,
  "nbformat_minor": 0,
  "metadata": {
    "colab": {
      "provenance": [],
      "authorship_tag": "ABX9TyPMHA66WQAcfdYH9kB8itrS",
      "include_colab_link": true
    },
    "kernelspec": {
      "name": "python3",
      "display_name": "Python 3"
    },
    "language_info": {
      "name": "python"
    }
  },
  "cells": [
    {
      "cell_type": "markdown",
      "metadata": {
        "id": "view-in-github",
        "colab_type": "text"
      },
      "source": [
        "<a href=\"https://colab.research.google.com/github/sud0x00/VideogameSentimentAnalysis/blob/main/VideoGameSentiment.ipynb\" target=\"_parent\"><img src=\"https://colab.research.google.com/assets/colab-badge.svg\" alt=\"Open In Colab\"/></a>"
      ]
    },
    {
      "cell_type": "code",
      "execution_count": null,
      "metadata": {
        "id": "XgCfP4LV3j-8"
      },
      "outputs": [],
      "source": [
        "!git clone https://github.com/sud0x00/VideogameSentimentAnalysis/"
      ]
    },
    {
      "cell_type": "code",
      "source": [
        "%cd /content/VideogameSentimentAnalysis\n",
        "!ls"
      ],
      "metadata": {
        "id": "vtT747UQ3k9k"
      },
      "execution_count": null,
      "outputs": []
    },
    {
      "cell_type": "code",
      "source": [
        "!pip install --upgrade tensorflow"
      ],
      "metadata": {
        "id": "O4Ak3DJG3sUU"
      },
      "execution_count": null,
      "outputs": []
    },
    {
      "cell_type": "markdown",
      "source": [
        "#Import required dependencies"
      ],
      "metadata": {
        "id": "8G5l99lY3wsc"
      }
    },
    {
      "cell_type": "code",
      "source": [
        "import tensorflow as tf\n",
        "import numpy as np\n",
        "import pandas as pd\n",
        "from tensorflow.keras.preprocessing.text import Tokenizer\n",
        "from tensorflow.keras.preprocessing.sequence import pad_sequences\n",
        "import numpy as np\n",
        "from sklearn.preprocessing import LabelEncoder"
      ],
      "metadata": {
        "id": "a36bGFeT3uS4"
      },
      "execution_count": 4,
      "outputs": []
    },
    {
      "cell_type": "markdown",
      "source": [
        "# Load the data"
      ],
      "metadata": {
        "id": "Sad494i134EZ"
      }
    },
    {
      "cell_type": "code",
      "source": [
        "data = pd.read_csv('reviews.csv')\n",
        "text = data['text'].values\n",
        "labels = data['sentiment'].values\n",
        "print(labels)"
      ],
      "metadata": {
        "id": "yJzqCIBO309P"
      },
      "execution_count": null,
      "outputs": []
    },
    {
      "cell_type": "markdown",
      "source": [
        "# Convert string labels to numerical values\n"
      ],
      "metadata": {
        "id": "HS6zCa_Z39o4"
      }
    },
    {
      "cell_type": "code",
      "source": [
        "label_encoder = LabelEncoder()\n",
        "labels = label_encoder.fit_transform(labels)\n",
        "np.save('classes.npy', label_encoder.classes_)\n",
        "print(labels)"
      ],
      "metadata": {
        "colab": {
          "base_uri": "https://localhost:8080/"
        },
        "id": "-jTQJiV538yY",
        "outputId": "eb9e49b1-18d5-45bc-ebff-d5b389878197"
      },
      "execution_count": 21,
      "outputs": [
        {
          "output_type": "stream",
          "name": "stdout",
          "text": [
            "[1 0 2 1 0 2 1 0 2 1 2 1 0 2 1 0 2 1 0 2 0 0 0 0 0 0 0 0 0 0 0 0]\n"
          ]
        }
      ]
    },
    {
      "cell_type": "markdown",
      "source": [
        "# Preprocess the data"
      ],
      "metadata": {
        "id": "KNrVOqjV4NgI"
      }
    },
    {
      "cell_type": "code",
      "source": [
        "tokenizer = Tokenizer(num_words=5000)\n",
        "tokenizer.fit_on_texts(text)\n",
        "sequence = tokenizer.texts_to_sequences(text)\n",
        "padded_sequence = pad_sequences(sequence, maxlen=100)"
      ],
      "metadata": {
        "id": "UZB77nQ434-m"
      },
      "execution_count": 9,
      "outputs": []
    },
    {
      "cell_type": "markdown",
      "source": [
        "# Define the model\n"
      ],
      "metadata": {
        "id": "ZnTx0iue4QBZ"
      }
    },
    {
      "cell_type": "code",
      "source": [
        "model = tf.keras.Sequential([\n",
        "    tf.keras.layers.Embedding(input_dim=5000, output_dim=64, input_length=100),\n",
        "    tf.keras.layers.LSTM(units=64, dropout=0.2),\n",
        "    tf.keras.layers.Dense(1, activation='sigmoid')\n",
        "])"
      ],
      "metadata": {
        "id": "OwUINZ8T4OjV"
      },
      "execution_count": 10,
      "outputs": []
    },
    {
      "cell_type": "markdown",
      "source": [
        "# Compile the model"
      ],
      "metadata": {
        "id": "krULd8Q24Tbw"
      }
    },
    {
      "cell_type": "code",
      "source": [
        "model.compile(loss='binary_crossentropy', optimizer='adam', metrics=['accuracy'])"
      ],
      "metadata": {
        "id": "YUBkSlgc4R9n"
      },
      "execution_count": 11,
      "outputs": []
    },
    {
      "cell_type": "markdown",
      "source": [
        "#Train the model"
      ],
      "metadata": {
        "id": "bLSXGlP84W_Y"
      }
    },
    {
      "cell_type": "code",
      "source": [
        "model.fit(padded_sequence,labels, epochs=10, validation_split=0.2)"
      ],
      "metadata": {
        "id": "mHM7in5Y4VFq"
      },
      "execution_count": null,
      "outputs": []
    },
    {
      "cell_type": "markdown",
      "source": [
        "# Evaluate the model"
      ],
      "metadata": {
        "id": "aTOh8-2P4dza"
      }
    },
    {
      "cell_type": "code",
      "source": [
        "test_loss, test_acc = model.evaluate(padded_sequence, labels)\n",
        "print('Test accuracy:', test_acc)"
      ],
      "metadata": {
        "id": "U6jHl4n94W00"
      },
      "execution_count": null,
      "outputs": []
    },
    {
      "cell_type": "markdown",
      "source": [
        "# Save the model to a file"
      ],
      "metadata": {
        "id": "pLmiF8pi4gy5"
      }
    },
    {
      "cell_type": "code",
      "source": [
        "model.save('my_model.h5')"
      ],
      "metadata": {
        "id": "DKj8UayI4eVq"
      },
      "execution_count": 14,
      "outputs": []
    },
    {
      "cell_type": "markdown",
      "source": [
        "#Prediction"
      ],
      "metadata": {
        "id": "-j3B4kaN4o0S"
      }
    },
    {
      "cell_type": "code",
      "source": [
        "import tensorflow as tf\n",
        "import numpy as np\n",
        "import pandas as pd\n",
        "from tensorflow.keras.preprocessing.text import Tokenizer\n",
        "from tensorflow.keras.preprocessing.sequence import pad_sequences\n",
        "from sklearn.preprocessing import LabelEncoder\n",
        "\n",
        "# Load the saved model\n",
        "model = tf.keras.models.load_model('my_model.h5')\n",
        "\n",
        "# Load the label encoder used to encode the sentiment labels\n",
        "label_encoder = LabelEncoder()\n",
        "label_encoder.classes_ = np.load('classes.npy')\n",
        "\n",
        "# Define the maximum sequence length and the tokenizer used to preprocess new text\n",
        "max_sequence_length = 100\n",
        "tokenizer = Tokenizer(num_words=5000)\n",
        "tokenizer.fit_on_texts([\"dummy\"])  # Add a dummy input to avoid an error caused by an empty tokenizer\n",
        "\n",
        "# Get input text from the user\n",
        "input_text = input(\"Enter a string of text to analyze: \")\n",
        "\n",
        "# Preprocess the input text\n",
        "sequence = tokenizer.texts_to_sequences([input_text])\n",
        "padded_sequence = pad_sequences(sequence, maxlen=max_sequence_length)\n",
        "\n",
        "# Predict the sentiment label\n",
        "prediction = model.predict(padded_sequence)[0][0]\n",
        "sentiment_label = label_encoder.inverse_transform([int(round(prediction))])[0]\n",
        "\n",
        "# Print the predicted sentiment label\n",
        "print(\"Predicted sentiment label: \", sentiment_label)\n"
      ],
      "metadata": {
        "colab": {
          "base_uri": "https://localhost:8080/"
        },
        "id": "oJobe02J4u4h",
        "outputId": "9b38649a-6a84-49e3-bff8-1c5635302ecc"
      },
      "execution_count": 25,
      "outputs": [
        {
          "output_type": "stream",
          "name": "stdout",
          "text": [
            "Enter a string of text to analyze: I was pleasantly surprised by this game. It had a fun and unique concept, and the execution was well done. Definitely worth checking out.\n",
            "1/1 [==============================] - 0s 440ms/step\n",
            "Predicted sentiment label:  1\n"
          ]
        }
      ]
    },
    {
      "cell_type": "code",
      "source": [],
      "metadata": {
        "id": "fzx2fW0G7LFb"
      },
      "execution_count": null,
      "outputs": []
    }
  ]
}